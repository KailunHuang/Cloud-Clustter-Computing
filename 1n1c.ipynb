{
 "cells": [
  {
   "cell_type": "code",
   "execution_count": 1,
   "metadata": {},
   "outputs": [],
   "source": [
    "import json\n",
    "import io\n",
    "import time\n",
    "from pprint import pprint\n",
    "post_list = {}\n",
    "with open('tinyTwitter.json','r', encoding=\"utf-8\") as data_file:    \n",
    "    data = json.load(data_file)"
   ]
  },
  {
   "cell_type": "code",
   "execution_count": 2,
   "metadata": {},
   "outputs": [],
   "source": [
    "import numpy\n",
    "json1_file = open('tinyTwitter.json',encoding=\"utf-8\")\n",
    "json1_str = json1_file.read()\n",
    "json1_data = json.loads(json1_str)\n",
    "datapoints = numpy.array(json1_data['rows'])\n"
   ]
  },
  {
   "cell_type": "code",
   "execution_count": 9,
   "metadata": {},
   "outputs": [
    {
     "data": {
      "text/html": [
       "<div>\n",
       "<style scoped>\n",
       "    .dataframe tbody tr th:only-of-type {\n",
       "        vertical-align: middle;\n",
       "    }\n",
       "\n",
       "    .dataframe tbody tr th {\n",
       "        vertical-align: top;\n",
       "    }\n",
       "\n",
       "    .dataframe thead th {\n",
       "        text-align: right;\n",
       "    }\n",
       "</style>\n",
       "<table border=\"1\" class=\"dataframe\">\n",
       "  <thead>\n",
       "    <tr style=\"text-align: right;\">\n",
       "      <th></th>\n",
       "      <th>id</th>\n",
       "      <th>key</th>\n",
       "      <th>value</th>\n",
       "      <th>doc</th>\n",
       "    </tr>\n",
       "  </thead>\n",
       "  <tbody>\n",
       "    <tr>\n",
       "      <td>0</td>\n",
       "      <td>1212161512334336000</td>\n",
       "      <td>[sydney, 2020, 1, 1]</td>\n",
       "      <td>1</td>\n",
       "      <td>{'_id': '1212161512334336000', '_rev': '1-a51c...</td>\n",
       "    </tr>\n",
       "    <tr>\n",
       "      <td>1</td>\n",
       "      <td>1212161512770437121</td>\n",
       "      <td>[sydney, 2020, 1, 1]</td>\n",
       "      <td>1</td>\n",
       "      <td>{'_id': '1212161512770437121', '_rev': '1-1f22...</td>\n",
       "    </tr>\n",
       "    <tr>\n",
       "      <td>2</td>\n",
       "      <td>1212161513361793024</td>\n",
       "      <td>[sydney, 2020, 1, 1]</td>\n",
       "      <td>1</td>\n",
       "      <td>{'_id': '1212161513361793024', '_rev': '1-3705...</td>\n",
       "    </tr>\n",
       "    <tr>\n",
       "      <td>3</td>\n",
       "      <td>1212161513580105733</td>\n",
       "      <td>[sydney, 2020, 1, 1]</td>\n",
       "      <td>1</td>\n",
       "      <td>{'_id': '1212161513580105733', '_rev': '1-85d9...</td>\n",
       "    </tr>\n",
       "    <tr>\n",
       "      <td>4</td>\n",
       "      <td>1212161514112770048</td>\n",
       "      <td>[sydney, 2020, 1, 1]</td>\n",
       "      <td>1</td>\n",
       "      <td>{'_id': '1212161514112770048', '_rev': '1-a301...</td>\n",
       "    </tr>\n",
       "    <tr>\n",
       "      <td>...</td>\n",
       "      <td>...</td>\n",
       "      <td>...</td>\n",
       "      <td>...</td>\n",
       "      <td>...</td>\n",
       "    </tr>\n",
       "    <tr>\n",
       "      <td>994</td>\n",
       "      <td>1212167190352449536</td>\n",
       "      <td>[sydney, 2020, 1, 1]</td>\n",
       "      <td>1</td>\n",
       "      <td>{'_id': '1212167190352449536', '_rev': '1-d05a...</td>\n",
       "    </tr>\n",
       "    <tr>\n",
       "      <td>995</td>\n",
       "      <td>1212167192311037952</td>\n",
       "      <td>[sydney, 2020, 1, 1]</td>\n",
       "      <td>1</td>\n",
       "      <td>{'_id': '1212167192311037952', '_rev': '1-50ec...</td>\n",
       "    </tr>\n",
       "    <tr>\n",
       "      <td>996</td>\n",
       "      <td>1212167194848550912</td>\n",
       "      <td>[sydney, 2020, 1, 1]</td>\n",
       "      <td>1</td>\n",
       "      <td>{'_id': '1212167194848550912', '_rev': '1-d501...</td>\n",
       "    </tr>\n",
       "    <tr>\n",
       "      <td>997</td>\n",
       "      <td>1212167196429783040</td>\n",
       "      <td>[sydney, 2020, 1, 1]</td>\n",
       "      <td>1</td>\n",
       "      <td>{'_id': '1212167196429783040', '_rev': '1-c2fe...</td>\n",
       "    </tr>\n",
       "    <tr>\n",
       "      <td>998</td>\n",
       "      <td>1212167199793614848</td>\n",
       "      <td>[sydney, 2020, 1, 1]</td>\n",
       "      <td>1</td>\n",
       "      <td>{'_id': '1212167199793614848', '_rev': '1-144b...</td>\n",
       "    </tr>\n",
       "  </tbody>\n",
       "</table>\n",
       "<p>999 rows × 4 columns</p>\n",
       "</div>"
      ],
      "text/plain": [
       "                      id                   key  value  \\\n",
       "0    1212161512334336000  [sydney, 2020, 1, 1]      1   \n",
       "1    1212161512770437121  [sydney, 2020, 1, 1]      1   \n",
       "2    1212161513361793024  [sydney, 2020, 1, 1]      1   \n",
       "3    1212161513580105733  [sydney, 2020, 1, 1]      1   \n",
       "4    1212161514112770048  [sydney, 2020, 1, 1]      1   \n",
       "..                   ...                   ...    ...   \n",
       "994  1212167190352449536  [sydney, 2020, 1, 1]      1   \n",
       "995  1212167192311037952  [sydney, 2020, 1, 1]      1   \n",
       "996  1212167194848550912  [sydney, 2020, 1, 1]      1   \n",
       "997  1212167196429783040  [sydney, 2020, 1, 1]      1   \n",
       "998  1212167199793614848  [sydney, 2020, 1, 1]      1   \n",
       "\n",
       "                                                   doc  \n",
       "0    {'_id': '1212161512334336000', '_rev': '1-a51c...  \n",
       "1    {'_id': '1212161512770437121', '_rev': '1-1f22...  \n",
       "2    {'_id': '1212161513361793024', '_rev': '1-3705...  \n",
       "3    {'_id': '1212161513580105733', '_rev': '1-85d9...  \n",
       "4    {'_id': '1212161514112770048', '_rev': '1-a301...  \n",
       "..                                                 ...  \n",
       "994  {'_id': '1212167190352449536', '_rev': '1-d05a...  \n",
       "995  {'_id': '1212167192311037952', '_rev': '1-50ec...  \n",
       "996  {'_id': '1212167194848550912', '_rev': '1-d501...  \n",
       "997  {'_id': '1212167196429783040', '_rev': '1-c2fe...  \n",
       "998  {'_id': '1212167199793614848', '_rev': '1-144b...  \n",
       "\n",
       "[999 rows x 4 columns]"
      ]
     },
     "execution_count": 9,
     "metadata": {},
     "output_type": "execute_result"
    }
   ],
   "source": [
    "import pandas as pd\n",
    "dataset = pd.DataFrame.from_dict(data['rows'])\n",
    "dataset"
   ]
  },
  {
   "cell_type": "code",
   "execution_count": 4,
   "metadata": {},
   "outputs": [],
   "source": [
    "subdata = data[\"rows\"]\n",
    "doc_content = []\n",
    "language = []\n",
    "for post in subdata:\n",
    "    doc_content.append(post[\"doc\"]['entities'])\n",
    "    language.append(post[\"doc\"]['lang'])\n",
    "subdataset = pd.DataFrame(doc_content)\n",
    "# subdataset.columns\n",
    "# language\n"
   ]
  },
  {
   "cell_type": "code",
   "execution_count": 6,
   "metadata": {},
   "outputs": [
    {
     "data": {
      "text/plain": [
       "[('climatechange', 5),\n",
       " ('scottyfrommarketing', 5),\n",
       " ('sonicmovie', 4),\n",
       " ('bushfiresnsw', 3),\n",
       " ('sydney', 2),\n",
       " ('climate', 2),\n",
       " ('happynewyear', 2),\n",
       " ('nswfires', 2),\n",
       " ('fireworks', 2),\n",
       " ('auspol', 2)]"
      ]
     },
     "execution_count": 6,
     "metadata": {},
     "output_type": "execute_result"
    }
   ],
   "source": [
    "from collections import defaultdict, Counter\n",
    "\n",
    "hashtags = subdataset.hashtags\n",
    "nonempty_hashtags = []\n",
    "for i in hashtags:\n",
    "    if i!=[]:\n",
    "        nonempty_hashtags.append(i[0][\"text\"]) \n",
    "nonempty_hashtags\n",
    "tfs = Counter()\n",
    "for tag in nonempty_hashtags:\n",
    "    tfs[tag.lower()]+=1\n",
    "tfs.most_common(10)"
   ]
  },
  {
   "cell_type": "code",
   "execution_count": 31,
   "metadata": {},
   "outputs": [
    {
     "data": {
      "text/plain": [
       "([('climatechange', 6),\n",
       "  ('scottyfrommarketing', 6),\n",
       "  ('auspol', 6),\n",
       "  ('australiaburns', 5),\n",
       "  ('sonicmovie', 4),\n",
       "  ('bushfiresnsw', 3),\n",
       "  ('nswfires', 3),\n",
       "  ('sydnye', 2),\n",
       "  ('sydney', 2),\n",
       "  ('climate', 2)],\n",
       " [('en', 832),\n",
       "  ('und', 69),\n",
       "  ('fr', 18),\n",
       "  ('pt', 17),\n",
       "  ('es', 16),\n",
       "  ('th', 9),\n",
       "  ('tl', 6),\n",
       "  ('ar', 4),\n",
       "  ('zh', 4),\n",
       "  ('de', 4)])"
      ]
     },
     "execution_count": 31,
     "metadata": {},
     "output_type": "execute_result"
    }
   ],
   "source": [
    "def extract_tags(data):\n",
    "    dataset = pd.DataFrame.from_dict(data['rows'])\n",
    "    subdata = data[\"rows\"]\n",
    "    doc_content = []\n",
    "    tfs = Counter()\n",
    "    language_count = Counter()\n",
    "    for post in subdata:\n",
    "        doc_content.append(post[\"doc\"]['entities'])\n",
    "        language_count[post[\"doc\"]['lang']]+=1\n",
    "    subdataset = pd.DataFrame(doc_content)\n",
    "    hashtags = subdataset.hashtags\n",
    "    for i in hashtags:\n",
    "        for tag in i:\n",
    "            tfs[tag[\"text\"].lower()]+=1\n",
    "    return (tfs.most_common(10), language_count.most_common(10))\n",
    "\n",
    "extract_tags(data)"
   ]
  },
  {
   "cell_type": "code",
   "execution_count": 33,
   "metadata": {},
   "outputs": [
    {
     "name": "stdout",
     "output_type": "stream",
     "text": [
      "([('scottyfrommarketing', 31), ('auspol', 31), ('climatechange', 29), ('australiaburns', 24), ('australianfires', 22), ('sydnye', 19), ('sonicmovie', 17), ('goavsgo', 13), ('nswfires', 12), ('เป๊กผลิตโชค', 12)], [('en', 4127), ('und', 302), ('pt', 101), ('fr', 92), ('th', 83), ('es', 61), ('ja', 32), ('tl', 27), ('in', 22), ('ko', 22)])\n",
      "We used  1.1809797286987305 seconds\n"
     ]
    }
   ],
   "source": [
    "import os\n",
    "import time\n",
    "\n",
    "start = time.time()\n",
    "with open('smallTwitter.json','rb+') as data_file:\n",
    "    data_file.seek(data_file.tell()-2, os.SEEK_END)\n",
    "    data_file.truncate()\n",
    "with open('smallTwitter.json','a') as data_file:\n",
    "    data_file.write(\"]}\")\n",
    "with open('smallTwitter.json','r', encoding=\"utf-8\") as data_file:\n",
    "    small_data = json.load(data_file)\n",
    "print(extract_tags(small_data))\n",
    "\n",
    "end = time.time()\n",
    "print(\"We used \",end - start,\"seconds\")"
   ]
  },
  {
   "cell_type": "code",
   "execution_count": null,
   "metadata": {},
   "outputs": [],
   "source": [
    "import time\n",
    "\n",
    "start = time.time()\n",
    "print(\"hello\")\n",
    "end = time.time()\n",
    "print(end - start)"
   ]
  }
 ],
 "metadata": {
  "kernelspec": {
   "display_name": "Python 3",
   "language": "python",
   "name": "python3"
  },
  "language_info": {
   "codemirror_mode": {
    "name": "ipython",
    "version": 3
   },
   "file_extension": ".py",
   "mimetype": "text/x-python",
   "name": "python",
   "nbconvert_exporter": "python",
   "pygments_lexer": "ipython3",
   "version": "3.7.4"
  }
 },
 "nbformat": 4,
 "nbformat_minor": 2
}
